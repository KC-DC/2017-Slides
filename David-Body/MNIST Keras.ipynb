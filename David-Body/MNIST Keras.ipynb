{
 "cells": [
  {
   "cell_type": "markdown",
   "metadata": {},
   "source": [
    "## Python imports"
   ]
  },
  {
   "cell_type": "code",
   "execution_count": 1,
   "metadata": {},
   "outputs": [
    {
     "name": "stderr",
     "output_type": "stream",
     "text": [
      "Using TensorFlow backend.\n"
     ]
    }
   ],
   "source": [
    "from tensorflow.examples.tutorials.mnist import input_data\n",
    "from keras.utils import to_categorical\n",
    "from keras import models\n",
    "from keras import layers\n",
    "from keras import optimizers\n",
    "import matplotlib.pyplot as plt\n",
    "import numpy as np\n",
    "from sklearn.metrics import classification_report, confusion_matrix"
   ]
  },
  {
   "cell_type": "markdown",
   "metadata": {},
   "source": [
    "## Read MNIST data (download if necessary)"
   ]
  },
  {
   "cell_type": "code",
   "execution_count": 2,
   "metadata": {},
   "outputs": [
    {
     "name": "stdout",
     "output_type": "stream",
     "text": [
      "Extracting ../data/train-images-idx3-ubyte.gz\n",
      "Extracting ../data/train-labels-idx1-ubyte.gz\n",
      "Extracting ../data/t10k-images-idx3-ubyte.gz\n",
      "Extracting ../data/t10k-labels-idx1-ubyte.gz\n"
     ]
    }
   ],
   "source": [
    "mnist = input_data.read_data_sets('../data/', one_hot=True)"
   ]
  },
  {
   "cell_type": "markdown",
   "metadata": {},
   "source": [
    "## Verify data shape\n",
    "\n",
    "* Training set\n",
    "* Validation set\n",
    "* Test set"
   ]
  },
  {
   "cell_type": "code",
   "execution_count": 3,
   "metadata": {},
   "outputs": [
    {
     "data": {
      "text/plain": [
       "((55000, 784), (55000, 10))"
      ]
     },
     "execution_count": 3,
     "metadata": {},
     "output_type": "execute_result"
    }
   ],
   "source": [
    "mnist.train.images.shape, mnist.train.labels.shape"
   ]
  },
  {
   "cell_type": "code",
   "execution_count": 4,
   "metadata": {},
   "outputs": [
    {
     "data": {
      "text/plain": [
       "((5000, 784), (5000, 10))"
      ]
     },
     "execution_count": 4,
     "metadata": {},
     "output_type": "execute_result"
    }
   ],
   "source": [
    "mnist.validation.images.shape, mnist.validation.labels.shape"
   ]
  },
  {
   "cell_type": "code",
   "execution_count": 5,
   "metadata": {},
   "outputs": [
    {
     "data": {
      "text/plain": [
       "((10000, 784), (10000, 10))"
      ]
     },
     "execution_count": 5,
     "metadata": {},
     "output_type": "execute_result"
    }
   ],
   "source": [
    "mnist.test.images.shape, mnist.test.labels.shape"
   ]
  },
  {
   "cell_type": "markdown",
   "metadata": {},
   "source": [
    "## Configure neural network\n",
    "\n",
    "* 784 input units\n",
    "* 15 hidden units with sigmoid activation functions\n",
    "* 10 softmax output units"
   ]
  },
  {
   "cell_type": "code",
   "execution_count": 6,
   "metadata": {
    "collapsed": true
   },
   "outputs": [],
   "source": [
    "model = models.Sequential()\n",
    "model.add(layers.Dense(15, activation = 'sigmoid', input_shape = (28 * 28,)))\n",
    "model.add(layers.Dense(10, activation = 'softmax'))"
   ]
  },
  {
   "cell_type": "markdown",
   "metadata": {},
   "source": [
    "## Specify loss function and optimizer\n",
    "\n",
    "* Categorical cross-entropy loss function\n",
    "* RMSprop optimizer (learning rate is adapted for each parameter)"
   ]
  },
  {
   "cell_type": "code",
   "execution_count": 7,
   "metadata": {
    "collapsed": true
   },
   "outputs": [],
   "source": [
    "model.compile(optimizer = optimizers.RMSprop(lr = 0.001),\n",
    "              loss = 'categorical_crossentropy',\n",
    "              metrics = ['accuracy'])"
   ]
  },
  {
   "cell_type": "markdown",
   "metadata": {},
   "source": [
    "## Model summary"
   ]
  },
  {
   "cell_type": "code",
   "execution_count": 8,
   "metadata": {},
   "outputs": [
    {
     "name": "stdout",
     "output_type": "stream",
     "text": [
      "_________________________________________________________________\n",
      "Layer (type)                 Output Shape              Param #   \n",
      "=================================================================\n",
      "dense_1_input (InputLayer)   (None, 784)               0         \n",
      "_________________________________________________________________\n",
      "dense_1 (Dense)              (None, 15)                11775     \n",
      "_________________________________________________________________\n",
      "dense_2 (Dense)              (None, 10)                160       \n",
      "=================================================================\n",
      "Total params: 11,935\n",
      "Trainable params: 11,935\n",
      "Non-trainable params: 0\n",
      "_________________________________________________________________\n"
     ]
    }
   ],
   "source": [
    "model.model.summary()"
   ]
  },
  {
   "cell_type": "markdown",
   "metadata": {},
   "source": [
    "## Train the neural network"
   ]
  },
  {
   "cell_type": "code",
   "execution_count": 9,
   "metadata": {},
   "outputs": [
    {
     "name": "stdout",
     "output_type": "stream",
     "text": [
      "Train on 55000 samples, validate on 5000 samples\n",
      "Epoch 1/20\n",
      "0s - loss: 1.8000 - acc: 0.5405 - val_loss: 1.4466 - val_acc: 0.7438\n",
      "Epoch 2/20\n",
      "0s - loss: 1.2511 - acc: 0.7997 - val_loss: 1.0558 - val_acc: 0.8444\n",
      "Epoch 3/20\n",
      "0s - loss: 0.9418 - acc: 0.8498 - val_loss: 0.8051 - val_acc: 0.8674\n",
      "Epoch 4/20\n",
      "0s - loss: 0.7376 - acc: 0.8697 - val_loss: 0.6376 - val_acc: 0.8878\n",
      "Epoch 5/20\n",
      "0s - loss: 0.6003 - acc: 0.8815 - val_loss: 0.5252 - val_acc: 0.8968\n",
      "Epoch 6/20\n",
      "0s - loss: 0.5063 - acc: 0.8911 - val_loss: 0.4472 - val_acc: 0.9022\n",
      "Epoch 7/20\n",
      "0s - loss: 0.4416 - acc: 0.8975 - val_loss: 0.3940 - val_acc: 0.9094\n",
      "Epoch 8/20\n",
      "0s - loss: 0.3960 - acc: 0.9028 - val_loss: 0.3581 - val_acc: 0.9128\n",
      "Epoch 9/20\n",
      "0s - loss: 0.3627 - acc: 0.9073 - val_loss: 0.3305 - val_acc: 0.9178\n",
      "Epoch 10/20\n",
      "0s - loss: 0.3377 - acc: 0.9109 - val_loss: 0.3097 - val_acc: 0.9210\n",
      "Epoch 11/20\n",
      "0s - loss: 0.3182 - acc: 0.9144 - val_loss: 0.2936 - val_acc: 0.9228\n",
      "Epoch 12/20\n",
      "0s - loss: 0.3026 - acc: 0.9171 - val_loss: 0.2808 - val_acc: 0.9258\n",
      "Epoch 13/20\n",
      "0s - loss: 0.2898 - acc: 0.9208 - val_loss: 0.2708 - val_acc: 0.9268\n",
      "Epoch 14/20\n",
      "0s - loss: 0.2789 - acc: 0.9226 - val_loss: 0.2616 - val_acc: 0.9294\n",
      "Epoch 15/20\n",
      "0s - loss: 0.2696 - acc: 0.9246 - val_loss: 0.2554 - val_acc: 0.9302\n",
      "Epoch 16/20\n",
      "0s - loss: 0.2613 - acc: 0.9270 - val_loss: 0.2486 - val_acc: 0.9316\n",
      "Epoch 17/20\n",
      "0s - loss: 0.2543 - acc: 0.9286 - val_loss: 0.2427 - val_acc: 0.9334\n",
      "Epoch 18/20\n",
      "0s - loss: 0.2477 - acc: 0.9301 - val_loss: 0.2383 - val_acc: 0.9338\n",
      "Epoch 19/20\n",
      "0s - loss: 0.2421 - acc: 0.9313 - val_loss: 0.2343 - val_acc: 0.9346\n",
      "Epoch 20/20\n",
      "0s - loss: 0.2367 - acc: 0.9328 - val_loss: 0.2292 - val_acc: 0.9352\n"
     ]
    }
   ],
   "source": [
    "history = model.fit(mnist.train.images,\n",
    "                    mnist.train.labels,\n",
    "                    epochs = 20,\n",
    "                    verbose = 2,\n",
    "                    batch_size = 512,\n",
    "                    validation_data = (mnist.validation.images, mnist.validation.labels))"
   ]
  },
  {
   "cell_type": "markdown",
   "metadata": {},
   "source": [
    "## Evaluate model accuracy on test data"
   ]
  },
  {
   "cell_type": "code",
   "execution_count": 10,
   "metadata": {},
   "outputs": [
    {
     "name": "stdout",
     "output_type": "stream",
     "text": [
      "\n",
      "Test accuracy:\n"
     ]
    },
    {
     "data": {
      "text/plain": [
       "0.93069999999999997"
      ]
     },
     "execution_count": 10,
     "metadata": {},
     "output_type": "execute_result"
    }
   ],
   "source": [
    "test_loss, test_acc = model.evaluate(mnist.test.images, mnist.test.labels, verbose = 0)\n",
    "print()\n",
    "print(\"Test accuracy:\")\n",
    "test_acc"
   ]
  },
  {
   "cell_type": "markdown",
   "metadata": {},
   "source": [
    "## Compute predicted values and predicted probabilities in test data"
   ]
  },
  {
   "cell_type": "code",
   "execution_count": 11,
   "metadata": {
    "collapsed": true
   },
   "outputs": [],
   "source": [
    "y_pred = model.predict_classes(mnist.test.images, verbose = 0)\n",
    "y_actual = mnist.test.labels.argmax(1)\n",
    "\n",
    "digits = [str(i) for i in range(10)]\n",
    "\n",
    "y_prob = model.predict(mnist.test.images)"
   ]
  },
  {
   "cell_type": "markdown",
   "metadata": {},
   "source": [
    "## Diagnostic measures"
   ]
  },
  {
   "cell_type": "code",
   "execution_count": 12,
   "metadata": {},
   "outputs": [
    {
     "name": "stdout",
     "output_type": "stream",
     "text": [
      "\n",
      "Classification report\n",
      "             precision    recall  f1-score   support\n",
      "\n",
      "          0       0.95      0.97      0.96       980\n",
      "          1       0.98      0.98      0.98      1135\n",
      "          2       0.94      0.92      0.93      1032\n",
      "          3       0.90      0.92      0.91      1010\n",
      "          4       0.93      0.95      0.94       982\n",
      "          5       0.91      0.87      0.89       892\n",
      "          6       0.94      0.96      0.95       958\n",
      "          7       0.94      0.93      0.93      1028\n",
      "          8       0.89      0.90      0.89       974\n",
      "          9       0.92      0.91      0.92      1009\n",
      "\n",
      "avg / total       0.93      0.93      0.93     10000\n",
      "\n"
     ]
    }
   ],
   "source": [
    "print()\n",
    "print(\"Classification report\")\n",
    "print(classification_report(y_actual, y_pred, target_names = digits))"
   ]
  },
  {
   "cell_type": "markdown",
   "metadata": {},
   "source": [
    "## Confusion matrix"
   ]
  },
  {
   "cell_type": "code",
   "execution_count": 13,
   "metadata": {},
   "outputs": [
    {
     "name": "stdout",
     "output_type": "stream",
     "text": [
      "\n",
      "Confusion matrix\n",
      "[[ 950    0    1    2    1   10   10    4    2    0]\n",
      " [   0 1107    3    3    1    2    4    1   14    0]\n",
      " [  10    0  948   18    7    0   14    7   25    3]\n",
      " [   0    1   16  930    1   23    1   14   18    6]\n",
      " [   1    2    5    0  929    0    7    3    5   30]\n",
      " [   8    4    3   36    7  777   12    9   31    5]\n",
      " [   7    2    6    0    6   11  919    0    7    0]\n",
      " [   2    9   23    7    6    0    1  954    2   24]\n",
      " [   6    2    7   22   11   24    9   12  874    7]\n",
      " [  12    3    1   12   30    9    1   15    7  919]]\n"
     ]
    }
   ],
   "source": [
    "print()\n",
    "print(\"Confusion matrix\")\n",
    "print(confusion_matrix(y_actual, y_pred))"
   ]
  },
  {
   "cell_type": "markdown",
   "metadata": {},
   "source": [
    "## Identify test examples where the model is wrong"
   ]
  },
  {
   "cell_type": "code",
   "execution_count": 14,
   "metadata": {},
   "outputs": [
    {
     "name": "stdout",
     "output_type": "stream",
     "text": [
      "\n",
      "Errors\n",
      "693\n"
     ]
    }
   ],
   "source": [
    "errors = np.where(np.not_equal(y_actual, y_pred))\n",
    "print()\n",
    "print(\"Errors\")\n",
    "print(len(errors[0]))\n",
    "# print(errors)"
   ]
  },
  {
   "cell_type": "markdown",
   "metadata": {},
   "source": [
    "## Utility functions"
   ]
  },
  {
   "cell_type": "code",
   "execution_count": 15,
   "metadata": {
    "collapsed": true
   },
   "outputs": [],
   "source": [
    "def show(image):\n",
    "    \"\"\"\n",
    "    Render a given numpy.uint8 2D array of pixel data.\n",
    "    \"\"\"\n",
    "    from matplotlib import pyplot\n",
    "    import matplotlib as mpl\n",
    "    fig = pyplot.figure()\n",
    "    ax = fig.add_subplot(1,1,1)\n",
    "    imgplot = ax.imshow(image, cmap=mpl.cm.Greys)\n",
    "    imgplot.set_interpolation('nearest')\n",
    "    ax.xaxis.set_ticks_position('top')\n",
    "    ax.yaxis.set_ticks_position('left')\n",
    "    pyplot.show()"
   ]
  },
  {
   "cell_type": "code",
   "execution_count": 16,
   "metadata": {
    "collapsed": true
   },
   "outputs": [],
   "source": [
    "def review(idx):\n",
    "    img = mnist.test.images[idx]\n",
    "    img = img.reshape((28, 28))\n",
    "    show(img)\n",
    "    print(\"Index: {}\".format(idx))\n",
    "    print(\"Predicted: {0}, Actual: {1}\".format(y_pred[idx], y_actual[idx]))\n",
    "    print(\"y_prob: {0}\".format(np.array_str(y_prob[idx], precision = 2, suppress_small = True)))"
   ]
  },
  {
   "cell_type": "markdown",
   "metadata": {},
   "source": [
    "## Look at some randomly selected errors"
   ]
  },
  {
   "cell_type": "code",
   "execution_count": 17,
   "metadata": {},
   "outputs": [
    {
     "data": {
      "image/png": "[encoded data removed]",
      "text/plain": [
       "<matplotlib.figure.Figure at 0x108bdacc0>"
      ]
     },
     "metadata": {},
     "output_type": "display_data"
    },
    {
     "name": "stdout",
     "output_type": "stream",
     "text": [
      "Index: 2780\n",
      "Predicted: 3, Actual: 2\n",
      "y_prob: [ 0.03  0.    0.12  0.78  0.04  0.    0.    0.    0.02  0.  ]\n"
     ]
    },
    {
     "data": {
      "image/png": "[encoded data removed]",
      "text/plain": [
       "<matplotlib.figure.Figure at 0x109e7ee10>"
      ]
     },
     "metadata": {},
     "output_type": "display_data"
    },
    {
     "name": "stdout",
     "output_type": "stream",
     "text": [
      "Index: 1114\n",
      "Predicted: 8, Actual: 3\n",
      "y_prob: [ 0.    0.    0.04  0.12  0.    0.01  0.    0.    0.82  0.01]\n"
     ]
    },
    {
     "data": {
      "image/png": "[encoded data removed]",
      "text/plain": [
       "<matplotlib.figure.Figure at 0x120f6b160>"
      ]
     },
     "metadata": {},
     "output_type": "display_data"
    },
    {
     "name": "stdout",
     "output_type": "stream",
     "text": [
      "Index: 7850\n",
      "Predicted: 8, Actual: 5\n",
      "y_prob: [ 0.04  0.    0.04  0.    0.08  0.22  0.16  0.    0.46  0.01]\n"
     ]
    },
    {
     "data": {
      "image/png": "[encoded data removed]",
      "text/plain": [
       "<matplotlib.figure.Figure at 0x121041828>"
      ]
     },
     "metadata": {},
     "output_type": "display_data"
    },
    {
     "name": "stdout",
     "output_type": "stream",
     "text": [
      "Index: 3951\n",
      "Predicted: 7, Actual: 8\n",
      "y_prob: [ 0.04  0.    0.15  0.09  0.    0.26  0.    0.33  0.09  0.04]\n"
     ]
    },
    {
     "data": {
      "image/png": "[encoded data removed]",
      "text/plain": [
       "<matplotlib.figure.Figure at 0x121114470>"
      ]
     },
     "metadata": {},
     "output_type": "display_data"
    },
    {
     "name": "stdout",
     "output_type": "stream",
     "text": [
      "Index: 9427\n",
      "Predicted: 3, Actual: 5\n",
      "y_prob: [ 0.    0.    0.    0.61  0.    0.38  0.    0.    0.    0.  ]\n"
     ]
    }
   ],
   "source": [
    "from random import sample\n",
    "for i in sample(list(errors[0]), 5):\n",
    "    review(i)"
   ]
  },
  {
   "cell_type": "code",
   "execution_count": null,
   "metadata": {
    "collapsed": true
   },
   "outputs": [],
   "source": []
  }
 ],
 "metadata": {
  "kernelspec": {
   "display_name": "Python 3",
   "language": "python",
   "name": "python3"
  },
  "language_info": {
   "codemirror_mode": {
    "name": "ipython",
    "version": 3
   },
   "file_extension": ".py",
   "mimetype": "text/x-python",
   "name": "python",
   "nbconvert_exporter": "python",
   "pygments_lexer": "ipython3",
   "version": "3.6.2"
  }
 },
 "nbformat": 4,
 "nbformat_minor": 2
}
